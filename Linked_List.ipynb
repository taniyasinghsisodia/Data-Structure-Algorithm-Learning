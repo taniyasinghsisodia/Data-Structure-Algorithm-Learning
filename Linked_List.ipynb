{
  "nbformat": 4,
  "nbformat_minor": 0,
  "metadata": {
    "colab": {
      "name": "Linked_List.ipynb",
      "provenance": []
    },
    "kernelspec": {
      "name": "python3",
      "display_name": "Python 3"
    },
    "language_info": {
      "name": "python"
    }
  },
  "cells": [
    {
      "cell_type": "code",
      "metadata": {
        "id": "L3ux9j1moqbu"
      },
      "source": [
        "class linkedListNode:\n",
        "    def __init__(self, value, nextNode=None):\n",
        "        self.value = value\n",
        "        self.nextNode = nextNode"
      ],
      "execution_count": 20,
      "outputs": []
    },
    {
      "cell_type": "code",
      "metadata": {
        "id": "L_F1zJ28klBt"
      },
      "source": [
        "def insertNode(head, valuetoInsert):\n",
        "    currentNode = head\n",
        "    while currentNode is not None:\n",
        "        if currentNode.nextNode is None:\n",
        "            currentNode.nextNode = linkedListNode(valuetoInsert)\n",
        "            return head\n",
        "        currentNode = currentNode.nextNode"
      ],
      "execution_count": 21,
      "outputs": []
    },
    {
      "cell_type": "code",
      "metadata": {
        "id": "dCQjJNwbkvPq"
      },
      "source": [
        "def deleteNode(head, valueToDelete):\n",
        "    currentNode = head\n",
        "    previousNode = None\n",
        "    while currentNode is not None:\n",
        "        if currentNode.value == valueToDelete:\n",
        "            if previousNode is None:\n",
        "                newHead = currentNode.nextNode\n",
        "                currentNode.nextNode = None\n",
        "                return newHead\n",
        "            previousNode.nextNode = currentNode.nextNode\n",
        "            return head\n",
        "        previousNode = currentNode\n",
        "        currentNode = currentNode.nextNode\n",
        "    return head  # Value to delete was not found."
      ],
      "execution_count": 22,
      "outputs": []
    },
    {
      "cell_type": "code",
      "metadata": {
        "id": "9uMYZDyPlOYU"
      },
      "source": [
        "node1 = linkedListNode(\"1\") # \"1\"\n",
        "node2 = linkedListNode(\"2\") # \"2\"\n",
        "node3 = linkedListNode(\"3\") # \"3\"\n",
        "\n",
        "node1.nextNode = node2 # node1 -> node2 , \"1\" -> \"2\"\n",
        "node2.nextNode = node3 # node2 -> node3 , \"2\" -> \"3\""
      ],
      "execution_count": 23,
      "outputs": []
    },
    {
      "cell_type": "code",
      "metadata": {
        "colab": {
          "base_uri": "https://localhost:8080/"
        },
        "id": "PLVfF8i3liK-",
        "outputId": "632a737c-198a-4053-bcf5-3e06d6b80b69"
      },
      "source": [
        "# node1 -> node2 -> node3\n",
        "\n",
        "head = node1\n",
        "\n",
        "print (\"Traversing the regular linkedList\")\n",
        "\n",
        "# Regular Traversal\n",
        "currentNode = head\n",
        "while currentNode is not None:\n",
        "    print(currentNode.value)\n",
        "    currentNode = currentNode.nextNode\n",
        "print (\"----------------END------------------\")"
      ],
      "execution_count": 24,
      "outputs": [
        {
          "output_type": "stream",
          "text": [
            "Traversing the regular linkedList\n",
            "1\n",
            "2\n",
            "3\n",
            "----------------END------------------\n"
          ],
          "name": "stdout"
        }
      ]
    },
    {
      "cell_type": "code",
      "metadata": {
        "colab": {
          "base_uri": "https://localhost:8080/"
        },
        "id": "IlVJIATfmji2",
        "outputId": "3758e18c-729f-420c-9885-1d6adf336c7b"
      },
      "source": [
        "print (\"deleting the node '2'\")\n",
        "newHead = deleteNode(head, \"2\")\n",
        "\n",
        "print (\"traversing the new linkedList with the node 2 removed\")\n",
        "\n",
        "currentNode = newHead\n",
        "while currentNode is not None:\n",
        "    print (currentNode.value)\n",
        "    currentNode = currentNode.nextNode\n",
        "print (\"----------------END------------------\")"
      ],
      "execution_count": 25,
      "outputs": [
        {
          "output_type": "stream",
          "text": [
            "deleting the node '2'\n",
            "traversing the new linkedList with the node 2 removed\n",
            "1\n",
            "3\n",
            "----------------END------------------\n"
          ],
          "name": "stdout"
        }
      ]
    },
    {
      "cell_type": "code",
      "metadata": {
        "colab": {
          "base_uri": "https://localhost:8080/"
        },
        "id": "EhJoa8pdkmWs",
        "outputId": "7aba85f5-1166-418e-c921-fd0432c6dae3"
      },
      "source": [
        "print (\"Inserting the node '4'\")\n",
        "newHead = insertNode(newHead, \"4\")\n",
        "\n",
        "print (\"traversing the new linkedList with the node 4 added\")\n",
        "\n",
        "currentNode = newHead\n",
        "while currentNode is not None:\n",
        "    print (currentNode.value)\n",
        "    currentNode = currentNode.nextNode\n",
        "print (\"----------------END------------------\")"
      ],
      "execution_count": 26,
      "outputs": [
        {
          "output_type": "stream",
          "text": [
            "Inserting the node '4'\n",
            "traversing the new linkedList with the node 4 added\n",
            "1\n",
            "3\n",
            "4\n",
            "----------------END------------------\n"
          ],
          "name": "stdout"
        }
      ]
    }
  ]
}